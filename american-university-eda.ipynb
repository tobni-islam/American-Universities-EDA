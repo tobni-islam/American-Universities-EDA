{
 "cells": [
  {
   "cell_type": "code",
   "execution_count": 1,
   "metadata": {
    "_cell_guid": "b1076dfc-b9ad-4769-8c92-a6c4dae69d19",
    "_uuid": "8f2839f25d086af736a60e9eeb907d3b93b6e0e5",
    "execution": {
     "iopub.execute_input": "2023-10-01T07:41:31.984770Z",
     "iopub.status.busy": "2023-10-01T07:41:31.984029Z",
     "iopub.status.idle": "2023-10-01T07:41:33.881142Z",
     "shell.execute_reply": "2023-10-01T07:41:33.879839Z",
     "shell.execute_reply.started": "2023-10-01T07:41:31.984730Z"
    }
   },
   "outputs": [],
   "source": [
    "import numpy as np\n",
    "import pandas as pd\n",
    "import matplotlib.pyplot as plt\n",
    "import seaborn as sns\n",
    "import warnings\n",
    "warnings.filterwarnings(\"ignore\") # For ignoring the unwanted warnings shown on the notebook\n",
    "%matplotlib inline"
   ]
  },
  {
   "cell_type": "markdown",
   "metadata": {},
   "source": [
    "**Reading the data**"
   ]
  },
  {
   "cell_type": "code",
   "execution_count": 2,
   "metadata": {
    "execution": {
     "iopub.execute_input": "2023-10-01T07:41:33.883326Z",
     "iopub.status.busy": "2023-10-01T07:41:33.882872Z",
     "iopub.status.idle": "2023-10-01T07:41:37.058754Z",
     "shell.execute_reply": "2023-10-01T07:41:37.057695Z",
     "shell.execute_reply.started": "2023-10-01T07:41:33.883283Z"
    }
   },
   "outputs": [
    {
     "data": {
      "text/html": [
       "<div>\n",
       "<style scoped>\n",
       "    .dataframe tbody tr th:only-of-type {\n",
       "        vertical-align: middle;\n",
       "    }\n",
       "\n",
       "    .dataframe tbody tr th {\n",
       "        vertical-align: top;\n",
       "    }\n",
       "\n",
       "    .dataframe thead th {\n",
       "        text-align: right;\n",
       "    }\n",
       "</style>\n",
       "<table border=\"1\" class=\"dataframe\">\n",
       "  <thead>\n",
       "    <tr style=\"text-align: right;\">\n",
       "      <th></th>\n",
       "      <th>ID number</th>\n",
       "      <th>Name</th>\n",
       "      <th>year</th>\n",
       "      <th>ZIP code</th>\n",
       "      <th>Highest degree offered</th>\n",
       "      <th>County name</th>\n",
       "      <th>Longitude location of institution</th>\n",
       "      <th>Latitude location of institution</th>\n",
       "      <th>Religious affiliation</th>\n",
       "      <th>Offers Less than one year certificate</th>\n",
       "      <th>...</th>\n",
       "      <th>Percent of freshmen  receiving federal grant aid</th>\n",
       "      <th>Percent of freshmen receiving Pell grants</th>\n",
       "      <th>Percent of freshmen receiving other federal grant aid</th>\n",
       "      <th>Percent of freshmen receiving state/local grant aid</th>\n",
       "      <th>Percent of freshmen receiving institutional grant aid</th>\n",
       "      <th>Percent of freshmen receiving student loan aid</th>\n",
       "      <th>Percent of freshmen receiving federal student loans</th>\n",
       "      <th>Percent of freshmen receiving other loan aid</th>\n",
       "      <th>Endowment assets (year end) per FTE enrollment (GASB)</th>\n",
       "      <th>Endowment assets (year end) per FTE enrollment (FASB)</th>\n",
       "    </tr>\n",
       "  </thead>\n",
       "  <tbody>\n",
       "    <tr>\n",
       "      <th>0</th>\n",
       "      <td>100654</td>\n",
       "      <td>Alabama A &amp; M University</td>\n",
       "      <td>2013</td>\n",
       "      <td>35762</td>\n",
       "      <td>Doctor's degree - research/scholarship</td>\n",
       "      <td>Madison County</td>\n",
       "      <td>-86.568502</td>\n",
       "      <td>34.783368</td>\n",
       "      <td>Not applicable</td>\n",
       "      <td>Implied no</td>\n",
       "      <td>...</td>\n",
       "      <td>81.0</td>\n",
       "      <td>81.0</td>\n",
       "      <td>7.0</td>\n",
       "      <td>1.0</td>\n",
       "      <td>32.0</td>\n",
       "      <td>89.0</td>\n",
       "      <td>89.0</td>\n",
       "      <td>1.0</td>\n",
       "      <td>NaN</td>\n",
       "      <td>NaN</td>\n",
       "    </tr>\n",
       "    <tr>\n",
       "      <th>1</th>\n",
       "      <td>100663</td>\n",
       "      <td>University of Alabama at Birmingham</td>\n",
       "      <td>2013</td>\n",
       "      <td>35294-0110</td>\n",
       "      <td>Doctor's degree - research/scholarship and pro...</td>\n",
       "      <td>Jefferson County</td>\n",
       "      <td>-86.809170</td>\n",
       "      <td>33.502230</td>\n",
       "      <td>Not applicable</td>\n",
       "      <td>Implied no</td>\n",
       "      <td>...</td>\n",
       "      <td>36.0</td>\n",
       "      <td>36.0</td>\n",
       "      <td>10.0</td>\n",
       "      <td>0.0</td>\n",
       "      <td>60.0</td>\n",
       "      <td>56.0</td>\n",
       "      <td>55.0</td>\n",
       "      <td>5.0</td>\n",
       "      <td>24136.0</td>\n",
       "      <td>NaN</td>\n",
       "    </tr>\n",
       "    <tr>\n",
       "      <th>2</th>\n",
       "      <td>100690</td>\n",
       "      <td>Amridge University</td>\n",
       "      <td>2013</td>\n",
       "      <td>36117-3553</td>\n",
       "      <td>Doctor's degree - research/scholarship and pro...</td>\n",
       "      <td>Montgomery County</td>\n",
       "      <td>-86.174010</td>\n",
       "      <td>32.362609</td>\n",
       "      <td>Churches of Christ</td>\n",
       "      <td>Implied no</td>\n",
       "      <td>...</td>\n",
       "      <td>90.0</td>\n",
       "      <td>90.0</td>\n",
       "      <td>0.0</td>\n",
       "      <td>40.0</td>\n",
       "      <td>90.0</td>\n",
       "      <td>100.0</td>\n",
       "      <td>100.0</td>\n",
       "      <td>0.0</td>\n",
       "      <td>NaN</td>\n",
       "      <td>302.0</td>\n",
       "    </tr>\n",
       "    <tr>\n",
       "      <th>3</th>\n",
       "      <td>100706</td>\n",
       "      <td>University of Alabama in Huntsville</td>\n",
       "      <td>2013</td>\n",
       "      <td>35899</td>\n",
       "      <td>Doctor's degree - research/scholarship and pro...</td>\n",
       "      <td>Madison County</td>\n",
       "      <td>-86.638420</td>\n",
       "      <td>34.722818</td>\n",
       "      <td>Not applicable</td>\n",
       "      <td>Yes</td>\n",
       "      <td>...</td>\n",
       "      <td>31.0</td>\n",
       "      <td>31.0</td>\n",
       "      <td>4.0</td>\n",
       "      <td>1.0</td>\n",
       "      <td>63.0</td>\n",
       "      <td>46.0</td>\n",
       "      <td>46.0</td>\n",
       "      <td>3.0</td>\n",
       "      <td>11502.0</td>\n",
       "      <td>NaN</td>\n",
       "    </tr>\n",
       "    <tr>\n",
       "      <th>4</th>\n",
       "      <td>100724</td>\n",
       "      <td>Alabama State University</td>\n",
       "      <td>2013</td>\n",
       "      <td>36104-0271</td>\n",
       "      <td>Doctor's degree - research/scholarship and pro...</td>\n",
       "      <td>Montgomery County</td>\n",
       "      <td>-86.295677</td>\n",
       "      <td>32.364317</td>\n",
       "      <td>Not applicable</td>\n",
       "      <td>Implied no</td>\n",
       "      <td>...</td>\n",
       "      <td>76.0</td>\n",
       "      <td>76.0</td>\n",
       "      <td>13.0</td>\n",
       "      <td>11.0</td>\n",
       "      <td>34.0</td>\n",
       "      <td>81.0</td>\n",
       "      <td>81.0</td>\n",
       "      <td>0.0</td>\n",
       "      <td>13202.0</td>\n",
       "      <td>NaN</td>\n",
       "    </tr>\n",
       "  </tbody>\n",
       "</table>\n",
       "<p>5 rows × 145 columns</p>\n",
       "</div>"
      ],
      "text/plain": [
       "   ID number                                 Name  year    ZIP code  \\\n",
       "0     100654             Alabama A & M University  2013       35762   \n",
       "1     100663  University of Alabama at Birmingham  2013  35294-0110   \n",
       "2     100690                   Amridge University  2013  36117-3553   \n",
       "3     100706  University of Alabama in Huntsville  2013       35899   \n",
       "4     100724             Alabama State University  2013  36104-0271   \n",
       "\n",
       "                              Highest degree offered        County name  \\\n",
       "0             Doctor's degree - research/scholarship     Madison County   \n",
       "1  Doctor's degree - research/scholarship and pro...   Jefferson County   \n",
       "2  Doctor's degree - research/scholarship and pro...  Montgomery County   \n",
       "3  Doctor's degree - research/scholarship and pro...     Madison County   \n",
       "4  Doctor's degree - research/scholarship and pro...  Montgomery County   \n",
       "\n",
       "   Longitude location of institution  Latitude location of institution  \\\n",
       "0                         -86.568502                         34.783368   \n",
       "1                         -86.809170                         33.502230   \n",
       "2                         -86.174010                         32.362609   \n",
       "3                         -86.638420                         34.722818   \n",
       "4                         -86.295677                         32.364317   \n",
       "\n",
       "  Religious affiliation Offers Less than one year certificate  ...  \\\n",
       "0        Not applicable                            Implied no  ...   \n",
       "1        Not applicable                            Implied no  ...   \n",
       "2    Churches of Christ                            Implied no  ...   \n",
       "3        Not applicable                                   Yes  ...   \n",
       "4        Not applicable                            Implied no  ...   \n",
       "\n",
       "  Percent of freshmen  receiving federal grant aid  \\\n",
       "0                                             81.0   \n",
       "1                                             36.0   \n",
       "2                                             90.0   \n",
       "3                                             31.0   \n",
       "4                                             76.0   \n",
       "\n",
       "  Percent of freshmen receiving Pell grants  \\\n",
       "0                                      81.0   \n",
       "1                                      36.0   \n",
       "2                                      90.0   \n",
       "3                                      31.0   \n",
       "4                                      76.0   \n",
       "\n",
       "  Percent of freshmen receiving other federal grant aid  \\\n",
       "0                                                7.0      \n",
       "1                                               10.0      \n",
       "2                                                0.0      \n",
       "3                                                4.0      \n",
       "4                                               13.0      \n",
       "\n",
       "  Percent of freshmen receiving state/local grant aid  \\\n",
       "0                                                1.0    \n",
       "1                                                0.0    \n",
       "2                                               40.0    \n",
       "3                                                1.0    \n",
       "4                                               11.0    \n",
       "\n",
       "  Percent of freshmen receiving institutional grant aid  \\\n",
       "0                                               32.0      \n",
       "1                                               60.0      \n",
       "2                                               90.0      \n",
       "3                                               63.0      \n",
       "4                                               34.0      \n",
       "\n",
       "  Percent of freshmen receiving student loan aid  \\\n",
       "0                                           89.0   \n",
       "1                                           56.0   \n",
       "2                                          100.0   \n",
       "3                                           46.0   \n",
       "4                                           81.0   \n",
       "\n",
       "  Percent of freshmen receiving federal student loans  \\\n",
       "0                                               89.0    \n",
       "1                                               55.0    \n",
       "2                                              100.0    \n",
       "3                                               46.0    \n",
       "4                                               81.0    \n",
       "\n",
       "  Percent of freshmen receiving other loan aid  \\\n",
       "0                                          1.0   \n",
       "1                                          5.0   \n",
       "2                                          0.0   \n",
       "3                                          3.0   \n",
       "4                                          0.0   \n",
       "\n",
       "  Endowment assets (year end) per FTE enrollment (GASB)  \\\n",
       "0                                                NaN      \n",
       "1                                            24136.0      \n",
       "2                                                NaN      \n",
       "3                                            11502.0      \n",
       "4                                            13202.0      \n",
       "\n",
       "  Endowment assets (year end) per FTE enrollment (FASB)  \n",
       "0                                                NaN     \n",
       "1                                                NaN     \n",
       "2                                              302.0     \n",
       "3                                                NaN     \n",
       "4                                                NaN     \n",
       "\n",
       "[5 rows x 145 columns]"
      ]
     },
     "execution_count": 2,
     "metadata": {},
     "output_type": "execute_result"
    }
   ],
   "source": [
    "# Importing data\n",
    "data = pd.read_excel(\"IPEDS_data.xlsx\")\n",
    "data.head()"
   ]
  },
  {
   "cell_type": "code",
   "execution_count": 3,
   "metadata": {
    "execution": {
     "iopub.execute_input": "2023-10-01T07:41:37.061214Z",
     "iopub.status.busy": "2023-10-01T07:41:37.060095Z",
     "iopub.status.idle": "2023-10-01T07:41:37.088144Z",
     "shell.execute_reply": "2023-10-01T07:41:37.087093Z",
     "shell.execute_reply.started": "2023-10-01T07:41:37.061175Z"
    }
   },
   "outputs": [
    {
     "name": "stdout",
     "output_type": "stream",
     "text": [
      "(1534, 145)\n",
      "<class 'pandas.core.frame.DataFrame'>\n",
      "RangeIndex: 1534 entries, 0 to 1533\n",
      "Columns: 145 entries, ID number to Endowment assets (year end) per FTE enrollment (FASB)\n",
      "dtypes: float64(116), int64(2), object(27)\n",
      "memory usage: 1.7+ MB\n",
      "None\n"
     ]
    }
   ],
   "source": [
    "# Getting infromations about the data\n",
    "print(data.shape)\n",
    "print(data.info())"
   ]
  },
  {
   "cell_type": "markdown",
   "metadata": {},
   "source": [
    "**Cleaning and formatting data**"
   ]
  },
  {
   "cell_type": "code",
   "execution_count": 4,
   "metadata": {
    "execution": {
     "iopub.execute_input": "2023-10-01T07:41:37.091678Z",
     "iopub.status.busy": "2023-10-01T07:41:37.090928Z",
     "iopub.status.idle": "2023-10-01T07:41:37.111133Z",
     "shell.execute_reply": "2023-10-01T07:41:37.109630Z",
     "shell.execute_reply.started": "2023-10-01T07:41:37.091632Z"
    }
   },
   "outputs": [
    {
     "name": "stdout",
     "output_type": "stream",
     "text": [
      "Endowment assets (year end) per FTE enrollment (GASB)      1018\n",
      "SAT Writing 25th percentile score                           820\n",
      "SAT Writing 75th percentile score                           820\n",
      "Number of first-time undergraduates - foreign countries     623\n",
      "Percent of first-time undergraduates - out-of-state         623\n",
      "                                                           ... \n",
      "Level of institution                                          0\n",
      "Control of institution                                        0\n",
      "Historically Black College or University                      0\n",
      "Tribal college                                                0\n",
      "State abbreviation                                            0\n",
      "Length: 145, dtype: int64\n"
     ]
    }
   ],
   "source": [
    "# Missing values\n",
    "print(data.isna().sum().sort_values(ascending = False))"
   ]
  },
  {
   "cell_type": "code",
   "execution_count": 5,
   "metadata": {
    "execution": {
     "iopub.execute_input": "2023-10-01T07:41:37.112982Z",
     "iopub.status.busy": "2023-10-01T07:41:37.112544Z",
     "iopub.status.idle": "2023-10-01T07:41:37.605342Z",
     "shell.execute_reply": "2023-10-01T07:41:37.604134Z",
     "shell.execute_reply.started": "2023-10-01T07:41:37.112957Z"
    }
   },
   "outputs": [
    {
     "name": "stdout",
     "output_type": "stream",
     "text": [
      "Endowment assets (year end) per FTE enrollment (GASB)       66.362451\n",
      "SAT Writing 25th percentile score                           53.455020\n",
      "SAT Writing 75th percentile score                           53.455020\n",
      "Number of first-time undergraduates - foreign countries     40.612777\n",
      "Percent of first-time undergraduates - out-of-state         40.612777\n",
      "Number of first-time undergraduates - out-of-state          40.612777\n",
      "Percent of first-time undergraduates - in-state             40.612777\n",
      "Number of first-time undergraduates - in-state              40.612777\n",
      "Number of first-time undergraduates - residence unknown     40.612777\n",
      "Percent of first-time undergraduates - residence unknown    40.612777\n",
      "Percent of first-time undergraduates - foreign countries    40.612777\n",
      "Endowment assets (year end) per FTE enrollment (FASB)       37.418514\n",
      "SAT Critical Reading 75th percentile score                  23.794003\n",
      "SAT Critical Reading 25th percentile score                  23.794003\n",
      "SAT Math 75th percentile score                              22.946545\n",
      "SAT Math 25th percentile score                              22.946545\n",
      "ACT Composite 25th percentile score                         21.838331\n",
      "ACT Composite 75th percentile score                         21.838331\n",
      "dtype: float64\n"
     ]
    },
    {
     "data": {
      "image/png": "[encoded data removed]",
      "text/plain": [
       "<Figure size 432x288 with 1 Axes>"
      ]
     },
     "metadata": {
      "needs_background": "light"
     },
     "output_type": "display_data"
    }
   ],
   "source": [
    "# Finding columns containing 20% or more missing value\n",
    "na_columns = (data.isna().sum().sort_values(ascending = False) / data.shape[0]) * 100\n",
    "threshold = 20\n",
    "\n",
    "na_columns_perc = na_columns[na_columns >= threshold]\n",
    "print(na_columns_perc)\n",
    "\n",
    "ax = na_columns_perc.plot.bar(title = \"Percentage of NaN values\")\n",
    "ax.set_ylabel(\"% of NaN values\")\n",
    "plt.show()"
   ]
  },
  {
   "cell_type": "code",
   "execution_count": 6,
   "metadata": {
    "execution": {
     "iopub.execute_input": "2023-10-01T07:41:37.606998Z",
     "iopub.status.busy": "2023-10-01T07:41:37.606614Z",
     "iopub.status.idle": "2023-10-01T07:41:37.643144Z",
     "shell.execute_reply": "2023-10-01T07:41:37.640912Z",
     "shell.execute_reply.started": "2023-10-01T07:41:37.606965Z"
    }
   },
   "outputs": [
    {
     "name": "stdout",
     "output_type": "stream",
     "text": [
      "(1534, 127)\n"
     ]
    },
    {
     "data": {
      "text/html": [
       "<div>\n",
       "<style scoped>\n",
       "    .dataframe tbody tr th:only-of-type {\n",
       "        vertical-align: middle;\n",
       "    }\n",
       "\n",
       "    .dataframe tbody tr th {\n",
       "        vertical-align: top;\n",
       "    }\n",
       "\n",
       "    .dataframe thead th {\n",
       "        text-align: right;\n",
       "    }\n",
       "</style>\n",
       "<table border=\"1\" class=\"dataframe\">\n",
       "  <thead>\n",
       "    <tr style=\"text-align: right;\">\n",
       "      <th></th>\n",
       "      <th>ID number</th>\n",
       "      <th>Name</th>\n",
       "      <th>year</th>\n",
       "      <th>ZIP code</th>\n",
       "      <th>Highest degree offered</th>\n",
       "      <th>County name</th>\n",
       "      <th>Longitude location of institution</th>\n",
       "      <th>Latitude location of institution</th>\n",
       "      <th>Religious affiliation</th>\n",
       "      <th>Offers Less than one year certificate</th>\n",
       "      <th>...</th>\n",
       "      <th>Percent of freshmen receiving any financial aid</th>\n",
       "      <th>Percent of freshmen receiving federal, state, local or institutional grant aid</th>\n",
       "      <th>Percent of freshmen  receiving federal grant aid</th>\n",
       "      <th>Percent of freshmen receiving Pell grants</th>\n",
       "      <th>Percent of freshmen receiving other federal grant aid</th>\n",
       "      <th>Percent of freshmen receiving state/local grant aid</th>\n",
       "      <th>Percent of freshmen receiving institutional grant aid</th>\n",
       "      <th>Percent of freshmen receiving student loan aid</th>\n",
       "      <th>Percent of freshmen receiving federal student loans</th>\n",
       "      <th>Percent of freshmen receiving other loan aid</th>\n",
       "    </tr>\n",
       "  </thead>\n",
       "  <tbody>\n",
       "    <tr>\n",
       "      <th>0</th>\n",
       "      <td>100654</td>\n",
       "      <td>Alabama A &amp; M University</td>\n",
       "      <td>2013</td>\n",
       "      <td>35762</td>\n",
       "      <td>Doctor's degree - research/scholarship</td>\n",
       "      <td>Madison County</td>\n",
       "      <td>-86.568502</td>\n",
       "      <td>34.783368</td>\n",
       "      <td>Not applicable</td>\n",
       "      <td>Implied no</td>\n",
       "      <td>...</td>\n",
       "      <td>97.0</td>\n",
       "      <td>89.0</td>\n",
       "      <td>81.0</td>\n",
       "      <td>81.0</td>\n",
       "      <td>7.0</td>\n",
       "      <td>1.0</td>\n",
       "      <td>32.0</td>\n",
       "      <td>89.0</td>\n",
       "      <td>89.0</td>\n",
       "      <td>1.0</td>\n",
       "    </tr>\n",
       "    <tr>\n",
       "      <th>1</th>\n",
       "      <td>100663</td>\n",
       "      <td>University of Alabama at Birmingham</td>\n",
       "      <td>2013</td>\n",
       "      <td>35294-0110</td>\n",
       "      <td>Doctor's degree - research/scholarship and pro...</td>\n",
       "      <td>Jefferson County</td>\n",
       "      <td>-86.809170</td>\n",
       "      <td>33.502230</td>\n",
       "      <td>Not applicable</td>\n",
       "      <td>Implied no</td>\n",
       "      <td>...</td>\n",
       "      <td>90.0</td>\n",
       "      <td>79.0</td>\n",
       "      <td>36.0</td>\n",
       "      <td>36.0</td>\n",
       "      <td>10.0</td>\n",
       "      <td>0.0</td>\n",
       "      <td>60.0</td>\n",
       "      <td>56.0</td>\n",
       "      <td>55.0</td>\n",
       "      <td>5.0</td>\n",
       "    </tr>\n",
       "    <tr>\n",
       "      <th>2</th>\n",
       "      <td>100690</td>\n",
       "      <td>Amridge University</td>\n",
       "      <td>2013</td>\n",
       "      <td>36117-3553</td>\n",
       "      <td>Doctor's degree - research/scholarship and pro...</td>\n",
       "      <td>Montgomery County</td>\n",
       "      <td>-86.174010</td>\n",
       "      <td>32.362609</td>\n",
       "      <td>Churches of Christ</td>\n",
       "      <td>Implied no</td>\n",
       "      <td>...</td>\n",
       "      <td>100.0</td>\n",
       "      <td>90.0</td>\n",
       "      <td>90.0</td>\n",
       "      <td>90.0</td>\n",
       "      <td>0.0</td>\n",
       "      <td>40.0</td>\n",
       "      <td>90.0</td>\n",
       "      <td>100.0</td>\n",
       "      <td>100.0</td>\n",
       "      <td>0.0</td>\n",
       "    </tr>\n",
       "    <tr>\n",
       "      <th>3</th>\n",
       "      <td>100706</td>\n",
       "      <td>University of Alabama in Huntsville</td>\n",
       "      <td>2013</td>\n",
       "      <td>35899</td>\n",
       "      <td>Doctor's degree - research/scholarship and pro...</td>\n",
       "      <td>Madison County</td>\n",
       "      <td>-86.638420</td>\n",
       "      <td>34.722818</td>\n",
       "      <td>Not applicable</td>\n",
       "      <td>Yes</td>\n",
       "      <td>...</td>\n",
       "      <td>87.0</td>\n",
       "      <td>77.0</td>\n",
       "      <td>31.0</td>\n",
       "      <td>31.0</td>\n",
       "      <td>4.0</td>\n",
       "      <td>1.0</td>\n",
       "      <td>63.0</td>\n",
       "      <td>46.0</td>\n",
       "      <td>46.0</td>\n",
       "      <td>3.0</td>\n",
       "    </tr>\n",
       "    <tr>\n",
       "      <th>4</th>\n",
       "      <td>100724</td>\n",
       "      <td>Alabama State University</td>\n",
       "      <td>2013</td>\n",
       "      <td>36104-0271</td>\n",
       "      <td>Doctor's degree - research/scholarship and pro...</td>\n",
       "      <td>Montgomery County</td>\n",
       "      <td>-86.295677</td>\n",
       "      <td>32.364317</td>\n",
       "      <td>Not applicable</td>\n",
       "      <td>Implied no</td>\n",
       "      <td>...</td>\n",
       "      <td>93.0</td>\n",
       "      <td>87.0</td>\n",
       "      <td>76.0</td>\n",
       "      <td>76.0</td>\n",
       "      <td>13.0</td>\n",
       "      <td>11.0</td>\n",
       "      <td>34.0</td>\n",
       "      <td>81.0</td>\n",
       "      <td>81.0</td>\n",
       "      <td>0.0</td>\n",
       "    </tr>\n",
       "  </tbody>\n",
       "</table>\n",
       "<p>5 rows × 127 columns</p>\n",
       "</div>"
      ],
      "text/plain": [
       "   ID number                                 Name  year    ZIP code  \\\n",
       "0     100654             Alabama A & M University  2013       35762   \n",
       "1     100663  University of Alabama at Birmingham  2013  35294-0110   \n",
       "2     100690                   Amridge University  2013  36117-3553   \n",
       "3     100706  University of Alabama in Huntsville  2013       35899   \n",
       "4     100724             Alabama State University  2013  36104-0271   \n",
       "\n",
       "                              Highest degree offered        County name  \\\n",
       "0             Doctor's degree - research/scholarship     Madison County   \n",
       "1  Doctor's degree - research/scholarship and pro...   Jefferson County   \n",
       "2  Doctor's degree - research/scholarship and pro...  Montgomery County   \n",
       "3  Doctor's degree - research/scholarship and pro...     Madison County   \n",
       "4  Doctor's degree - research/scholarship and pro...  Montgomery County   \n",
       "\n",
       "   Longitude location of institution  Latitude location of institution  \\\n",
       "0                         -86.568502                         34.783368   \n",
       "1                         -86.809170                         33.502230   \n",
       "2                         -86.174010                         32.362609   \n",
       "3                         -86.638420                         34.722818   \n",
       "4                         -86.295677                         32.364317   \n",
       "\n",
       "  Religious affiliation Offers Less than one year certificate  ...  \\\n",
       "0        Not applicable                            Implied no  ...   \n",
       "1        Not applicable                            Implied no  ...   \n",
       "2    Churches of Christ                            Implied no  ...   \n",
       "3        Not applicable                                   Yes  ...   \n",
       "4        Not applicable                            Implied no  ...   \n",
       "\n",
       "  Percent of freshmen receiving any financial aid  \\\n",
       "0                                            97.0   \n",
       "1                                            90.0   \n",
       "2                                           100.0   \n",
       "3                                            87.0   \n",
       "4                                            93.0   \n",
       "\n",
       "  Percent of freshmen receiving federal, state, local or institutional grant aid  \\\n",
       "0                                               89.0                               \n",
       "1                                               79.0                               \n",
       "2                                               90.0                               \n",
       "3                                               77.0                               \n",
       "4                                               87.0                               \n",
       "\n",
       "  Percent of freshmen  receiving federal grant aid  \\\n",
       "0                                             81.0   \n",
       "1                                             36.0   \n",
       "2                                             90.0   \n",
       "3                                             31.0   \n",
       "4                                             76.0   \n",
       "\n",
       "  Percent of freshmen receiving Pell grants  \\\n",
       "0                                      81.0   \n",
       "1                                      36.0   \n",
       "2                                      90.0   \n",
       "3                                      31.0   \n",
       "4                                      76.0   \n",
       "\n",
       "  Percent of freshmen receiving other federal grant aid  \\\n",
       "0                                                7.0      \n",
       "1                                               10.0      \n",
       "2                                                0.0      \n",
       "3                                                4.0      \n",
       "4                                               13.0      \n",
       "\n",
       "  Percent of freshmen receiving state/local grant aid  \\\n",
       "0                                                1.0    \n",
       "1                                                0.0    \n",
       "2                                               40.0    \n",
       "3                                                1.0    \n",
       "4                                               11.0    \n",
       "\n",
       "  Percent of freshmen receiving institutional grant aid  \\\n",
       "0                                               32.0      \n",
       "1                                               60.0      \n",
       "2                                               90.0      \n",
       "3                                               63.0      \n",
       "4                                               34.0      \n",
       "\n",
       "  Percent of freshmen receiving student loan aid  \\\n",
       "0                                           89.0   \n",
       "1                                           56.0   \n",
       "2                                          100.0   \n",
       "3                                           46.0   \n",
       "4                                           81.0   \n",
       "\n",
       "  Percent of freshmen receiving federal student loans  \\\n",
       "0                                               89.0    \n",
       "1                                               55.0    \n",
       "2                                              100.0    \n",
       "3                                               46.0    \n",
       "4                                               81.0    \n",
       "\n",
       "  Percent of freshmen receiving other loan aid  \n",
       "0                                          1.0  \n",
       "1                                          5.0  \n",
       "2                                          0.0  \n",
       "3                                          3.0  \n",
       "4                                          0.0  \n",
       "\n",
       "[5 rows x 127 columns]"
      ]
     },
     "execution_count": 6,
     "metadata": {},
     "output_type": "execute_result"
    }
   ],
   "source": [
    "# Removing columns with 20% or more NaN values\n",
    "data_copy = data.copy()\n",
    "data_copy = data_copy.drop(na_columns_perc.index,axis = 1)\n",
    "\n",
    "print(data_copy.shape)\n",
    "data_copy.head()"
   ]
  },
  {
   "cell_type": "code",
   "execution_count": 7,
   "metadata": {
    "execution": {
     "iopub.execute_input": "2023-10-01T07:41:37.645891Z",
     "iopub.status.busy": "2023-10-01T07:41:37.645523Z",
     "iopub.status.idle": "2023-10-01T07:41:37.655643Z",
     "shell.execute_reply": "2023-10-01T07:41:37.654575Z",
     "shell.execute_reply.started": "2023-10-01T07:41:37.645866Z"
    }
   },
   "outputs": [
    {
     "data": {
      "text/plain": [
       "(1534, 28)"
      ]
     },
     "execution_count": 7,
     "metadata": {},
     "output_type": "execute_result"
    }
   ],
   "source": [
    "# Keeping the columns that are related to the goal of the project\n",
    "interesting_columns=['Name', 'year', 'Highest degree offered', \"Offers Bachelor's degree\",\n",
    "       \"Offers Master's degree\",\n",
    "       \"Offers Doctor's degree - research/scholarship\",\n",
    "       \"Offers Doctor's degree - professional practice\", 'Applicants total',\n",
    "       'Admissions total', 'Enrolled total', 'Estimated enrollment, total',\n",
    "       'Tuition and fees, 2013-14',\n",
    "       'Total price for in-state students living on campus 2013-14',\n",
    "       'Total price for out-of-state students living on campus 2013-14',\n",
    "       'State abbreviation', 'Control of institution', \n",
    "       'Full-time enrollment', 'Part-time enrollment',\n",
    "       'Undergraduate enrollment', 'Graduate enrollment',\n",
    "       'Full-time undergraduate enrollment',\n",
    "       'Part-time undergraduate enrollment',\n",
    "       'Percent of total enrollment that are women',\n",
    "       'Percent of undergraduate enrollment that are women',\n",
    "       'Percent of graduate enrollment that are women',\n",
    "       'Graduation rate - Bachelor degree within 4 years, total',\n",
    "       'Graduation rate - Bachelor degree within 5 years, total',\n",
    "       'Graduation rate - Bachelor degree within 6 years, total',]\n",
    "\n",
    "data_copy = data_copy[interesting_columns]\n",
    "data_copy.shape"
   ]
  },
  {
   "cell_type": "code",
   "execution_count": 8,
   "metadata": {
    "execution": {
     "iopub.execute_input": "2023-10-01T07:41:37.657716Z",
     "iopub.status.busy": "2023-10-01T07:41:37.656842Z",
     "iopub.status.idle": "2023-10-01T07:41:37.681429Z",
     "shell.execute_reply": "2023-10-01T07:41:37.680338Z",
     "shell.execute_reply.started": "2023-10-01T07:41:37.657676Z"
    }
   },
   "outputs": [
    {
     "name": "stdout",
     "output_type": "stream",
     "text": [
      "0       0\n",
      "1       0\n",
      "2       5\n",
      "3       0\n",
      "4       0\n",
      "       ..\n",
      "1529    5\n",
      "1530    1\n",
      "1531    9\n",
      "1532    1\n",
      "1533    8\n",
      "Length: 1532, dtype: int64\n"
     ]
    },
    {
     "data": {
      "text/plain": [
       "(1532, 28)"
      ]
     },
     "execution_count": 8,
     "metadata": {},
     "output_type": "execute_result"
    }
   ],
   "source": [
    "# Removing rows that contain plethora of NaN values\n",
    "indexes = data_copy.isna().sum(axis = 1)\n",
    "indexes_na = indexes[indexes <= 10]\n",
    "print(indexes_na)\n",
    "\n",
    "data_copy = data_copy.iloc[indexes_na.index,:]\n",
    "data_copy.shape"
   ]
  },
  {
   "cell_type": "code",
   "execution_count": 9,
   "metadata": {
    "execution": {
     "iopub.execute_input": "2023-10-01T07:41:37.683446Z",
     "iopub.status.busy": "2023-10-01T07:41:37.683046Z",
     "iopub.status.idle": "2023-10-01T07:41:37.696164Z",
     "shell.execute_reply": "2023-10-01T07:41:37.695038Z",
     "shell.execute_reply.started": "2023-10-01T07:41:37.683409Z"
    }
   },
   "outputs": [
    {
     "name": "stdout",
     "output_type": "stream",
     "text": [
      "Index(['year', 'Applicants total', 'Admissions total', 'Enrolled total',\n",
      "       'Estimated enrollment, total', 'Tuition and fees, 2013-14',\n",
      "       'Total price for in-state students living on campus 2013-14',\n",
      "       'Total price for out-of-state students living on campus 2013-14',\n",
      "       'Full-time enrollment', 'Part-time enrollment',\n",
      "       'Undergraduate enrollment', 'Graduate enrollment',\n",
      "       'Full-time undergraduate enrollment',\n",
      "       'Part-time undergraduate enrollment',\n",
      "       'Percent of total enrollment that are women',\n",
      "       'Percent of undergraduate enrollment that are women',\n",
      "       'Percent of graduate enrollment that are women',\n",
      "       'Graduation rate - Bachelor degree within 4 years, total',\n",
      "       'Graduation rate - Bachelor degree within 5 years, total',\n",
      "       'Graduation rate - Bachelor degree within 6 years, total'],\n",
      "      dtype='object')\n",
      "year                                                              0.0\n",
      "Applicants total                                                  0.0\n",
      "Admissions total                                                  0.0\n",
      "Enrolled total                                                    0.0\n",
      "Estimated enrollment, total                                       0.0\n",
      "Tuition and fees, 2013-14                                         0.0\n",
      "Total price for in-state students living on campus 2013-14        0.0\n",
      "Total price for out-of-state students living on campus 2013-14    0.0\n",
      "Full-time enrollment                                              0.0\n",
      "Part-time enrollment                                              0.0\n",
      "Undergraduate enrollment                                          0.0\n",
      "Graduate enrollment                                               0.0\n",
      "Full-time undergraduate enrollment                                0.0\n",
      "Part-time undergraduate enrollment                                0.0\n",
      "Percent of total enrollment that are women                        0.0\n",
      "Percent of undergraduate enrollment that are women                0.0\n",
      "Percent of graduate enrollment that are women                     0.0\n",
      "Graduation rate - Bachelor degree within 4 years, total           0.0\n",
      "Graduation rate - Bachelor degree within 5 years, total           0.0\n",
      "Graduation rate - Bachelor degree within 6 years, total           0.0\n",
      "dtype: float64\n"
     ]
    }
   ],
   "source": [
    "# Invalid values\n",
    "# Identidying numeric values columns\n",
    "numeric_columns = data_copy.select_dtypes(include = [int,float])\n",
    "print(numeric_columns.columns)\n",
    "\n",
    "# Finding if any of these columns contain negative values\n",
    "print(numeric_columns[numeric_columns < 0].sum())"
   ]
  },
  {
   "cell_type": "code",
   "execution_count": 20,
   "metadata": {
    "execution": {
     "iopub.execute_input": "2023-10-01T07:41:37.700952Z",
     "iopub.status.busy": "2023-10-01T07:41:37.700631Z",
     "iopub.status.idle": "2023-10-01T07:41:38.165445Z",
     "shell.execute_reply": "2023-10-01T07:41:38.164403Z",
     "shell.execute_reply.started": "2023-10-01T07:41:37.700926Z"
    }
   },
   "outputs": [
    {
     "ename": "ValueError",
     "evalue": "The truth value of a Series is ambiguous. Use a.empty, a.bool(), a.item(), a.any() or a.all().",
     "output_type": "error",
     "traceback": [
      "\u001b[0;31m---------------------------------------------------------------------------\u001b[0m",
      "\u001b[0;31mValueError\u001b[0m                                Traceback (most recent call last)",
      "Input \u001b[0;32mIn [20]\u001b[0m, in \u001b[0;36m<cell line: 5>\u001b[0;34m()\u001b[0m\n\u001b[1;32m      2\u001b[0m nb_zeros \u001b[38;5;241m=\u001b[39m data_copy[data_copy \u001b[38;5;241m==\u001b[39m \u001b[38;5;241m0\u001b[39m]\u001b[38;5;241m.\u001b[39mcount()\n\u001b[1;32m      3\u001b[0m nb_zeros \u001b[38;5;241m=\u001b[39m nb_zeros\u001b[38;5;241m.\u001b[39mreset_index()\n\u001b[0;32m----> 5\u001b[0m ax \u001b[38;5;241m=\u001b[39m \u001b[43msns\u001b[49m\u001b[38;5;241;43m.\u001b[39;49m\u001b[43mbarplot\u001b[49m\u001b[43m(\u001b[49m\u001b[43mnb_zeros\u001b[49m\u001b[43m,\u001b[49m\u001b[43mx\u001b[49m\u001b[43m \u001b[49m\u001b[38;5;241;43m=\u001b[39;49m\u001b[43m \u001b[49m\u001b[38;5;241;43m0\u001b[39;49m\u001b[43m,\u001b[49m\u001b[43my\u001b[49m\u001b[43m \u001b[49m\u001b[38;5;241;43m=\u001b[39;49m\u001b[43m \u001b[49m\u001b[38;5;241;43m0\u001b[39;49m\u001b[43m)\u001b[49m\n\u001b[1;32m      6\u001b[0m plt\u001b[38;5;241m.\u001b[39mxticks(rotation \u001b[38;5;241m=\u001b[39m \u001b[38;5;241m90\u001b[39m)\n\u001b[1;32m      7\u001b[0m plt\u001b[38;5;241m.\u001b[39mshow()\n",
      "File \u001b[0;32m~/ENTER/lib/python3.9/site-packages/seaborn/_decorators.py:46\u001b[0m, in \u001b[0;36m_deprecate_positional_args.<locals>.inner_f\u001b[0;34m(*args, **kwargs)\u001b[0m\n\u001b[1;32m     36\u001b[0m     warnings\u001b[38;5;241m.\u001b[39mwarn(\n\u001b[1;32m     37\u001b[0m         \u001b[38;5;124m\"\u001b[39m\u001b[38;5;124mPass the following variable\u001b[39m\u001b[38;5;132;01m{}\u001b[39;00m\u001b[38;5;124m as \u001b[39m\u001b[38;5;132;01m{}\u001b[39;00m\u001b[38;5;124mkeyword arg\u001b[39m\u001b[38;5;132;01m{}\u001b[39;00m\u001b[38;5;124m: \u001b[39m\u001b[38;5;132;01m{}\u001b[39;00m\u001b[38;5;124m. \u001b[39m\u001b[38;5;124m\"\u001b[39m\n\u001b[1;32m     38\u001b[0m         \u001b[38;5;124m\"\u001b[39m\u001b[38;5;124mFrom version 0.12, the only valid positional argument \u001b[39m\u001b[38;5;124m\"\u001b[39m\n\u001b[0;32m   (...)\u001b[0m\n\u001b[1;32m     43\u001b[0m         \u001b[38;5;167;01mFutureWarning\u001b[39;00m\n\u001b[1;32m     44\u001b[0m     )\n\u001b[1;32m     45\u001b[0m kwargs\u001b[38;5;241m.\u001b[39mupdate({k: arg \u001b[38;5;28;01mfor\u001b[39;00m k, arg \u001b[38;5;129;01min\u001b[39;00m \u001b[38;5;28mzip\u001b[39m(sig\u001b[38;5;241m.\u001b[39mparameters, args)})\n\u001b[0;32m---> 46\u001b[0m \u001b[38;5;28;01mreturn\u001b[39;00m \u001b[43mf\u001b[49m\u001b[43m(\u001b[49m\u001b[38;5;241;43m*\u001b[39;49m\u001b[38;5;241;43m*\u001b[39;49m\u001b[43mkwargs\u001b[49m\u001b[43m)\u001b[49m\n",
      "File \u001b[0;32m~/ENTER/lib/python3.9/site-packages/seaborn/categorical.py:3182\u001b[0m, in \u001b[0;36mbarplot\u001b[0;34m(x, y, hue, data, order, hue_order, estimator, ci, n_boot, units, seed, orient, color, palette, saturation, errcolor, errwidth, capsize, dodge, ax, **kwargs)\u001b[0m\n\u001b[1;32m   3169\u001b[0m \u001b[38;5;129m@_deprecate_positional_args\u001b[39m\n\u001b[1;32m   3170\u001b[0m \u001b[38;5;28;01mdef\u001b[39;00m \u001b[38;5;21mbarplot\u001b[39m(\n\u001b[1;32m   3171\u001b[0m     \u001b[38;5;241m*\u001b[39m,\n\u001b[0;32m   (...)\u001b[0m\n\u001b[1;32m   3179\u001b[0m     \u001b[38;5;241m*\u001b[39m\u001b[38;5;241m*\u001b[39mkwargs,\n\u001b[1;32m   3180\u001b[0m ):\n\u001b[0;32m-> 3182\u001b[0m     plotter \u001b[38;5;241m=\u001b[39m \u001b[43m_BarPlotter\u001b[49m\u001b[43m(\u001b[49m\u001b[43mx\u001b[49m\u001b[43m,\u001b[49m\u001b[43m \u001b[49m\u001b[43my\u001b[49m\u001b[43m,\u001b[49m\u001b[43m \u001b[49m\u001b[43mhue\u001b[49m\u001b[43m,\u001b[49m\u001b[43m \u001b[49m\u001b[43mdata\u001b[49m\u001b[43m,\u001b[49m\u001b[43m \u001b[49m\u001b[43morder\u001b[49m\u001b[43m,\u001b[49m\u001b[43m \u001b[49m\u001b[43mhue_order\u001b[49m\u001b[43m,\u001b[49m\n\u001b[1;32m   3183\u001b[0m \u001b[43m                          \u001b[49m\u001b[43mestimator\u001b[49m\u001b[43m,\u001b[49m\u001b[43m \u001b[49m\u001b[43mci\u001b[49m\u001b[43m,\u001b[49m\u001b[43m \u001b[49m\u001b[43mn_boot\u001b[49m\u001b[43m,\u001b[49m\u001b[43m \u001b[49m\u001b[43munits\u001b[49m\u001b[43m,\u001b[49m\u001b[43m \u001b[49m\u001b[43mseed\u001b[49m\u001b[43m,\u001b[49m\n\u001b[1;32m   3184\u001b[0m \u001b[43m                          \u001b[49m\u001b[43morient\u001b[49m\u001b[43m,\u001b[49m\u001b[43m \u001b[49m\u001b[43mcolor\u001b[49m\u001b[43m,\u001b[49m\u001b[43m \u001b[49m\u001b[43mpalette\u001b[49m\u001b[43m,\u001b[49m\u001b[43m \u001b[49m\u001b[43msaturation\u001b[49m\u001b[43m,\u001b[49m\n\u001b[1;32m   3185\u001b[0m \u001b[43m                          \u001b[49m\u001b[43merrcolor\u001b[49m\u001b[43m,\u001b[49m\u001b[43m \u001b[49m\u001b[43merrwidth\u001b[49m\u001b[43m,\u001b[49m\u001b[43m \u001b[49m\u001b[43mcapsize\u001b[49m\u001b[43m,\u001b[49m\u001b[43m \u001b[49m\u001b[43mdodge\u001b[49m\u001b[43m)\u001b[49m\n\u001b[1;32m   3187\u001b[0m     \u001b[38;5;28;01mif\u001b[39;00m ax \u001b[38;5;129;01mis\u001b[39;00m \u001b[38;5;28;01mNone\u001b[39;00m:\n\u001b[1;32m   3188\u001b[0m         ax \u001b[38;5;241m=\u001b[39m plt\u001b[38;5;241m.\u001b[39mgca()\n",
      "File \u001b[0;32m~/ENTER/lib/python3.9/site-packages/seaborn/categorical.py:1584\u001b[0m, in \u001b[0;36m_BarPlotter.__init__\u001b[0;34m(self, x, y, hue, data, order, hue_order, estimator, ci, n_boot, units, seed, orient, color, palette, saturation, errcolor, errwidth, capsize, dodge)\u001b[0m\n\u001b[1;32m   1579\u001b[0m \u001b[38;5;28;01mdef\u001b[39;00m \u001b[38;5;21m__init__\u001b[39m(\u001b[38;5;28mself\u001b[39m, x, y, hue, data, order, hue_order,\n\u001b[1;32m   1580\u001b[0m              estimator, ci, n_boot, units, seed,\n\u001b[1;32m   1581\u001b[0m              orient, color, palette, saturation, errcolor,\n\u001b[1;32m   1582\u001b[0m              errwidth, capsize, dodge):\n\u001b[1;32m   1583\u001b[0m     \u001b[38;5;124;03m\"\"\"Initialize the plotter.\"\"\"\u001b[39;00m\n\u001b[0;32m-> 1584\u001b[0m     \u001b[38;5;28;43mself\u001b[39;49m\u001b[38;5;241;43m.\u001b[39;49m\u001b[43mestablish_variables\u001b[49m\u001b[43m(\u001b[49m\u001b[43mx\u001b[49m\u001b[43m,\u001b[49m\u001b[43m \u001b[49m\u001b[43my\u001b[49m\u001b[43m,\u001b[49m\u001b[43m \u001b[49m\u001b[43mhue\u001b[49m\u001b[43m,\u001b[49m\u001b[43m \u001b[49m\u001b[43mdata\u001b[49m\u001b[43m,\u001b[49m\u001b[43m \u001b[49m\u001b[43morient\u001b[49m\u001b[43m,\u001b[49m\n\u001b[1;32m   1585\u001b[0m \u001b[43m                             \u001b[49m\u001b[43morder\u001b[49m\u001b[43m,\u001b[49m\u001b[43m \u001b[49m\u001b[43mhue_order\u001b[49m\u001b[43m,\u001b[49m\u001b[43m \u001b[49m\u001b[43munits\u001b[49m\u001b[43m)\u001b[49m\n\u001b[1;32m   1586\u001b[0m     \u001b[38;5;28mself\u001b[39m\u001b[38;5;241m.\u001b[39mestablish_colors(color, palette, saturation)\n\u001b[1;32m   1587\u001b[0m     \u001b[38;5;28mself\u001b[39m\u001b[38;5;241m.\u001b[39mestimate_statistic(estimator, ci, n_boot, seed)\n",
      "File \u001b[0;32m~/ENTER/lib/python3.9/site-packages/seaborn/categorical.py:156\u001b[0m, in \u001b[0;36m_CategoricalPlotter.establish_variables\u001b[0;34m(self, x, y, hue, data, orient, order, hue_order, units)\u001b[0m\n\u001b[1;32m    153\u001b[0m         \u001b[38;5;28;01mraise\u001b[39;00m \u001b[38;5;167;01mValueError\u001b[39;00m(err)\n\u001b[1;32m    155\u001b[0m \u001b[38;5;66;03m# Figure out the plotting orientation\u001b[39;00m\n\u001b[0;32m--> 156\u001b[0m orient \u001b[38;5;241m=\u001b[39m \u001b[43minfer_orient\u001b[49m\u001b[43m(\u001b[49m\n\u001b[1;32m    157\u001b[0m \u001b[43m    \u001b[49m\u001b[43mx\u001b[49m\u001b[43m,\u001b[49m\u001b[43m \u001b[49m\u001b[43my\u001b[49m\u001b[43m,\u001b[49m\u001b[43m \u001b[49m\u001b[43morient\u001b[49m\u001b[43m,\u001b[49m\u001b[43m \u001b[49m\u001b[43mrequire_numeric\u001b[49m\u001b[38;5;241;43m=\u001b[39;49m\u001b[38;5;28;43mself\u001b[39;49m\u001b[38;5;241;43m.\u001b[39;49m\u001b[43mrequire_numeric\u001b[49m\n\u001b[1;32m    158\u001b[0m \u001b[43m\u001b[49m\u001b[43m)\u001b[49m\n\u001b[1;32m    160\u001b[0m \u001b[38;5;66;03m# Option 2a:\u001b[39;00m\n\u001b[1;32m    161\u001b[0m \u001b[38;5;66;03m# We are plotting a single set of data\u001b[39;00m\n\u001b[1;32m    162\u001b[0m \u001b[38;5;66;03m# ------------------------------------\u001b[39;00m\n\u001b[1;32m    163\u001b[0m \u001b[38;5;28;01mif\u001b[39;00m x \u001b[38;5;129;01mis\u001b[39;00m \u001b[38;5;28;01mNone\u001b[39;00m \u001b[38;5;129;01mor\u001b[39;00m y \u001b[38;5;129;01mis\u001b[39;00m \u001b[38;5;28;01mNone\u001b[39;00m:\n\u001b[1;32m    164\u001b[0m \n\u001b[1;32m    165\u001b[0m     \u001b[38;5;66;03m# Determine where the data are\u001b[39;00m\n",
      "File \u001b[0;32m~/ENTER/lib/python3.9/site-packages/seaborn/_core.py:1311\u001b[0m, in \u001b[0;36minfer_orient\u001b[0;34m(x, y, orient, require_numeric)\u001b[0m\n\u001b[1;32m   1283\u001b[0m \u001b[38;5;28;01mdef\u001b[39;00m \u001b[38;5;21minfer_orient\u001b[39m(x\u001b[38;5;241m=\u001b[39m\u001b[38;5;28;01mNone\u001b[39;00m, y\u001b[38;5;241m=\u001b[39m\u001b[38;5;28;01mNone\u001b[39;00m, orient\u001b[38;5;241m=\u001b[39m\u001b[38;5;28;01mNone\u001b[39;00m, require_numeric\u001b[38;5;241m=\u001b[39m\u001b[38;5;28;01mTrue\u001b[39;00m):\n\u001b[1;32m   1284\u001b[0m     \u001b[38;5;124;03m\"\"\"Determine how the plot should be oriented based on the data.\u001b[39;00m\n\u001b[1;32m   1285\u001b[0m \n\u001b[1;32m   1286\u001b[0m \u001b[38;5;124;03m    For historical reasons, the convention is to call a plot \"horizontally\"\u001b[39;00m\n\u001b[0;32m   (...)\u001b[0m\n\u001b[1;32m   1308\u001b[0m \n\u001b[1;32m   1309\u001b[0m \u001b[38;5;124;03m    \"\"\"\u001b[39;00m\n\u001b[0;32m-> 1311\u001b[0m     x_type \u001b[38;5;241m=\u001b[39m \u001b[38;5;28;01mNone\u001b[39;00m \u001b[38;5;28;01mif\u001b[39;00m x \u001b[38;5;129;01mis\u001b[39;00m \u001b[38;5;28;01mNone\u001b[39;00m \u001b[38;5;28;01melse\u001b[39;00m \u001b[43mvariable_type\u001b[49m\u001b[43m(\u001b[49m\u001b[43mx\u001b[49m\u001b[43m)\u001b[49m\n\u001b[1;32m   1312\u001b[0m     y_type \u001b[38;5;241m=\u001b[39m \u001b[38;5;28;01mNone\u001b[39;00m \u001b[38;5;28;01mif\u001b[39;00m y \u001b[38;5;129;01mis\u001b[39;00m \u001b[38;5;28;01mNone\u001b[39;00m \u001b[38;5;28;01melse\u001b[39;00m variable_type(y)\n\u001b[1;32m   1314\u001b[0m     nonnumeric_dv_error \u001b[38;5;241m=\u001b[39m \u001b[38;5;124m\"\u001b[39m\u001b[38;5;132;01m{}\u001b[39;00m\u001b[38;5;124m orientation requires numeric `\u001b[39m\u001b[38;5;132;01m{}\u001b[39;00m\u001b[38;5;124m` variable.\u001b[39m\u001b[38;5;124m\"\u001b[39m\n",
      "File \u001b[0;32m~/ENTER/lib/python3.9/site-packages/seaborn/_core.py:1229\u001b[0m, in \u001b[0;36mvariable_type\u001b[0;34m(vector, boolean_type)\u001b[0m\n\u001b[1;32m   1226\u001b[0m     \u001b[38;5;28;01mreturn\u001b[39;00m \u001b[38;5;124m\"\u001b[39m\u001b[38;5;124mcategorical\u001b[39m\u001b[38;5;124m\"\u001b[39m\n\u001b[1;32m   1228\u001b[0m \u001b[38;5;66;03m# Special-case all-na data, which is always \"numeric\"\u001b[39;00m\n\u001b[0;32m-> 1229\u001b[0m \u001b[38;5;28;01mif\u001b[39;00m pd\u001b[38;5;241m.\u001b[39misna(vector)\u001b[38;5;241m.\u001b[39mall():\n\u001b[1;32m   1230\u001b[0m     \u001b[38;5;28;01mreturn\u001b[39;00m \u001b[38;5;124m\"\u001b[39m\u001b[38;5;124mnumeric\u001b[39m\u001b[38;5;124m\"\u001b[39m\n\u001b[1;32m   1232\u001b[0m \u001b[38;5;66;03m# Special-case binary/boolean data, allow caller to determine\u001b[39;00m\n\u001b[1;32m   1233\u001b[0m \u001b[38;5;66;03m# This triggers a numpy warning when vector has strings/objects\u001b[39;00m\n\u001b[1;32m   1234\u001b[0m \u001b[38;5;66;03m# https://github.com/numpy/numpy/issues/6784\u001b[39;00m\n\u001b[0;32m   (...)\u001b[0m\n\u001b[1;32m   1238\u001b[0m \u001b[38;5;66;03m# https://github.com/numpy/numpy/issues/13548\u001b[39;00m\n\u001b[1;32m   1239\u001b[0m \u001b[38;5;66;03m# This is considered a bug by numpy and will likely go away.\u001b[39;00m\n",
      "File \u001b[0;32m~/ENTER/lib/python3.9/site-packages/pandas/core/generic.py:1527\u001b[0m, in \u001b[0;36mNDFrame.__nonzero__\u001b[0;34m(self)\u001b[0m\n\u001b[1;32m   1525\u001b[0m \u001b[38;5;129m@final\u001b[39m\n\u001b[1;32m   1526\u001b[0m \u001b[38;5;28;01mdef\u001b[39;00m \u001b[38;5;21m__nonzero__\u001b[39m(\u001b[38;5;28mself\u001b[39m):\n\u001b[0;32m-> 1527\u001b[0m     \u001b[38;5;28;01mraise\u001b[39;00m \u001b[38;5;167;01mValueError\u001b[39;00m(\n\u001b[1;32m   1528\u001b[0m         \u001b[38;5;124mf\u001b[39m\u001b[38;5;124m\"\u001b[39m\u001b[38;5;124mThe truth value of a \u001b[39m\u001b[38;5;132;01m{\u001b[39;00m\u001b[38;5;28mtype\u001b[39m(\u001b[38;5;28mself\u001b[39m)\u001b[38;5;241m.\u001b[39m\u001b[38;5;18m__name__\u001b[39m\u001b[38;5;132;01m}\u001b[39;00m\u001b[38;5;124m is ambiguous. \u001b[39m\u001b[38;5;124m\"\u001b[39m\n\u001b[1;32m   1529\u001b[0m         \u001b[38;5;124m\"\u001b[39m\u001b[38;5;124mUse a.empty, a.bool(), a.item(), a.any() or a.all().\u001b[39m\u001b[38;5;124m\"\u001b[39m\n\u001b[1;32m   1530\u001b[0m     )\n",
      "\u001b[0;31mValueError\u001b[0m: The truth value of a Series is ambiguous. Use a.empty, a.bool(), a.item(), a.any() or a.all()."
     ]
    }
   ],
   "source": [
    "# Inconsistant values\n",
    "nb_zeros = data_copy[data_copy == 0].count()\n",
    "nb_zeros = nb_zeros.reset_index()\n",
    "\n",
    "ax = sns.barplot(nb_zeros,x = \"in\",y = 0)\n",
    "plt.xticks(rotation = 90)\n",
    "plt.show()\n",
    "\n",
    "print(nb_zeros)"
   ]
  },
  {
   "cell_type": "code",
   "execution_count": null,
   "metadata": {
    "execution": {
     "iopub.execute_input": "2023-10-01T07:41:38.167617Z",
     "iopub.status.busy": "2023-10-01T07:41:38.166864Z",
     "iopub.status.idle": "2023-10-01T07:41:38.173520Z",
     "shell.execute_reply": "2023-10-01T07:41:38.172646Z",
     "shell.execute_reply.started": "2023-10-01T07:41:38.167573Z"
    }
   },
   "outputs": [],
   "source": [
    "print(\"The total number of zero values in this data is \"+ str(nb_zeros[0].sum()))"
   ]
  },
  {
   "cell_type": "code",
   "execution_count": null,
   "metadata": {
    "execution": {
     "iopub.execute_input": "2023-10-01T07:41:38.175573Z",
     "iopub.status.busy": "2023-10-01T07:41:38.174897Z",
     "iopub.status.idle": "2023-10-01T07:41:38.197524Z",
     "shell.execute_reply": "2023-10-01T07:41:38.196098Z",
     "shell.execute_reply.started": "2023-10-01T07:41:38.175545Z"
    }
   },
   "outputs": [],
   "source": [
    "# Change the inconsistant values with NaN values\n",
    "data_copy = data_copy.replace({0:np.NaN})\n",
    "\n",
    "nb_zeros = data_copy[data_copy == 0].count().sum()\n",
    "print(\"The total number of zero values in the new cleaned data is: \"+ str(nb_zeros))"
   ]
  },
  {
   "cell_type": "markdown",
   "metadata": {},
   "source": [
    "**Formatting**"
   ]
  },
  {
   "cell_type": "code",
   "execution_count": null,
   "metadata": {
    "execution": {
     "iopub.execute_input": "2023-10-01T07:41:38.199191Z",
     "iopub.status.busy": "2023-10-01T07:41:38.198910Z",
     "iopub.status.idle": "2023-10-01T07:41:38.204743Z",
     "shell.execute_reply": "2023-10-01T07:41:38.203937Z",
     "shell.execute_reply.started": "2023-10-01T07:41:38.199167Z"
    }
   },
   "outputs": [],
   "source": [
    "# Removing spaces\n",
    "def remove_space(headers,charact):\n",
    "    new_headers = []\n",
    "    for header in headers:\n",
    "        for char in charact:\n",
    "            if char in header:\n",
    "                header = header.replace(char,\"_\")\n",
    "            header = header\n",
    "        new_headers.append(header)\n",
    "    return new_headers"
   ]
  },
  {
   "cell_type": "code",
   "execution_count": null,
   "metadata": {
    "execution": {
     "iopub.execute_input": "2023-10-01T07:41:38.206437Z",
     "iopub.status.busy": "2023-10-01T07:41:38.205692Z",
     "iopub.status.idle": "2023-10-01T07:41:38.216800Z",
     "shell.execute_reply": "2023-10-01T07:41:38.215781Z",
     "shell.execute_reply.started": "2023-10-01T07:41:38.206407Z"
    }
   },
   "outputs": [],
   "source": [
    "# Removing special characters\n",
    "def remove_sp_char(headers,charact):\n",
    "    new_headers = []\n",
    "    for header in headers:\n",
    "        for char in charact:\n",
    "            if char == \"-\" or char == '/':\n",
    "                header = header.replace(char,\"_\")\n",
    "            if char in header:\n",
    "                header = header.replace(char,\"\")\n",
    "        new_headers.append(header)\n",
    "    return new_headers"
   ]
  },
  {
   "cell_type": "code",
   "execution_count": null,
   "metadata": {
    "execution": {
     "iopub.execute_input": "2023-10-01T07:41:38.218719Z",
     "iopub.status.busy": "2023-10-01T07:41:38.217968Z",
     "iopub.status.idle": "2023-10-01T07:41:38.228719Z",
     "shell.execute_reply": "2023-10-01T07:41:38.227692Z",
     "shell.execute_reply.started": "2023-10-01T07:41:38.218688Z"
    }
   },
   "outputs": [],
   "source": [
    "headers = remove_space(data_copy.columns,[\" - \",\" \"])\n",
    "headers = remove_sp_char(headers,[\"'\",\",\",\":\",\"-\",\"/\"])"
   ]
  },
  {
   "cell_type": "code",
   "execution_count": null,
   "metadata": {
    "execution": {
     "iopub.execute_input": "2023-10-01T07:41:38.230240Z",
     "iopub.status.busy": "2023-10-01T07:41:38.229980Z",
     "iopub.status.idle": "2023-10-01T07:41:38.243126Z",
     "shell.execute_reply": "2023-10-01T07:41:38.241888Z",
     "shell.execute_reply.started": "2023-10-01T07:41:38.230219Z"
    }
   },
   "outputs": [],
   "source": [
    "# Lower case all header\n",
    "new_headers = []\n",
    "for header in headers:\n",
    "    header = header.casefold()\n",
    "    \n",
    "    if \"degrese\" in header: # One column name has a typo\n",
    "        header = header.replace(\"degrese\",\"degrees\")\n",
    "    \n",
    "    new_headers.append(header)\n",
    "    \n",
    "data_copy.columns = new_headers\n",
    "data_copy.columns"
   ]
  },
  {
   "cell_type": "markdown",
   "metadata": {},
   "source": [
    "**Exploratory Data Analysis (EDA) and Visualization. Quantitative and qualitative analysis (Asking and Answering Questions).**"
   ]
  },
  {
   "cell_type": "code",
   "execution_count": null,
   "metadata": {
    "execution": {
     "iopub.execute_input": "2023-10-01T07:41:38.244910Z",
     "iopub.status.busy": "2023-10-01T07:41:38.244547Z",
     "iopub.status.idle": "2023-10-01T07:41:38.262893Z",
     "shell.execute_reply": "2023-10-01T07:41:38.261672Z",
     "shell.execute_reply.started": "2023-10-01T07:41:38.244882Z"
    }
   },
   "outputs": [],
   "source": [
    "data_copy.info()"
   ]
  },
  {
   "cell_type": "code",
   "execution_count": null,
   "metadata": {
    "execution": {
     "iopub.execute_input": "2023-10-01T07:41:38.264604Z",
     "iopub.status.busy": "2023-10-01T07:41:38.264208Z",
     "iopub.status.idle": "2023-10-01T07:41:38.526050Z",
     "shell.execute_reply": "2023-10-01T07:41:38.524926Z",
     "shell.execute_reply.started": "2023-10-01T07:41:38.264579Z"
    }
   },
   "outputs": [],
   "source": [
    "print(data_copy[\"applicants_total\"].describe())\n",
    "data_copy[\"applicants_total\"].plot()\n",
    "plt.show()"
   ]
  },
  {
   "cell_type": "code",
   "execution_count": null,
   "metadata": {
    "execution": {
     "iopub.execute_input": "2023-10-01T07:41:38.528656Z",
     "iopub.status.busy": "2023-10-01T07:41:38.527904Z",
     "iopub.status.idle": "2023-10-01T07:41:38.537537Z",
     "shell.execute_reply": "2023-10-01T07:41:38.536162Z",
     "shell.execute_reply.started": "2023-10-01T07:41:38.528616Z"
    }
   },
   "outputs": [],
   "source": [
    "# Getting the universities with highest and lowest number of applications\n",
    "print(data_copy.iloc[data_copy[\"applicants_total\"].idxmax(),0])\n",
    "print(data_copy.iloc[data_copy[\"applicants_total\"].idxmin(),0])"
   ]
  },
  {
   "cell_type": "markdown",
   "metadata": {},
   "source": [
    "**#1 Do universities with a high number of applications are the preferred ones by students?**"
   ]
  },
  {
   "cell_type": "code",
   "execution_count": null,
   "metadata": {
    "execution": {
     "iopub.execute_input": "2023-10-01T07:41:38.539662Z",
     "iopub.status.busy": "2023-10-01T07:41:38.539072Z",
     "iopub.status.idle": "2023-10-01T07:41:38.553882Z",
     "shell.execute_reply": "2023-10-01T07:41:38.552657Z",
     "shell.execute_reply.started": "2023-10-01T07:41:38.539631Z"
    }
   },
   "outputs": [],
   "source": [
    "first_question = data_copy[[\"applicants_total\",\"admissions_total\",\"enrolled_total\"]]\n",
    "first_question.head()"
   ]
  },
  {
   "cell_type": "code",
   "execution_count": null,
   "metadata": {
    "execution": {
     "iopub.execute_input": "2023-10-01T07:41:38.556266Z",
     "iopub.status.busy": "2023-10-01T07:41:38.555383Z",
     "iopub.status.idle": "2023-10-01T07:41:39.569186Z",
     "shell.execute_reply": "2023-10-01T07:41:39.568222Z",
     "shell.execute_reply.started": "2023-10-01T07:41:38.556208Z"
    }
   },
   "outputs": [],
   "source": [
    "fig,ax = plt.subplots(1,3,figsize = (20,5))\n",
    "\n",
    "sns.histplot(data = first_question,x = \"applicants_total\",ax = ax[0])\n",
    "mean_ap = round(first_question[\"applicants_total\"].mean(),1)\n",
    "median_ap = round(first_question[\"applicants_total\"].median(),1)\n",
    "ax[0].set_title(f\"Histogram of Number of Applicants\\nMean: {mean_ap}, Median: {median_ap}\")\n",
    "\n",
    "sns.histplot(data = first_question,x = \"admissions_total\",ax = ax[1])\n",
    "mean_ad = round(first_question[\"admissions_total\"].mean(),1)\n",
    "median_ad = round(first_question[\"admissions_total\"].median(),1)\n",
    "ax[1].set_title(f\"Histogram of Number of Admissions\\nMean: {mean_ad}, Median: {median_ad}\")\n",
    "\n",
    "sns.histplot(data = first_question,x = \"enrolled_total\",ax = ax[2])\n",
    "mean_en = round(first_question[\"enrolled_total\"].mean(),1)\n",
    "median_en = round(first_question[\"enrolled_total\"].median(),1)\n",
    "ax[2].set_title(f\"Histogram of Number of Enrolled\\nMean: {mean_en}, Median: {median_en}\")\n",
    "\n",
    "plt.show()"
   ]
  },
  {
   "cell_type": "code",
   "execution_count": null,
   "metadata": {
    "execution": {
     "iopub.execute_input": "2023-10-01T07:41:39.571497Z",
     "iopub.status.busy": "2023-10-01T07:41:39.571047Z",
     "iopub.status.idle": "2023-10-01T07:41:39.589757Z",
     "shell.execute_reply": "2023-10-01T07:41:39.588575Z",
     "shell.execute_reply.started": "2023-10-01T07:41:39.571458Z"
    }
   },
   "outputs": [],
   "source": [
    "first_question[\"enrollements_rate\"] = first_question[\"enrolled_total\"] / first_question[\"admissions_total\"]\n",
    "first_question.head()"
   ]
  },
  {
   "cell_type": "code",
   "execution_count": null,
   "metadata": {
    "execution": {
     "iopub.execute_input": "2023-10-01T07:41:39.591979Z",
     "iopub.status.busy": "2023-10-01T07:41:39.591580Z",
     "iopub.status.idle": "2023-10-01T07:41:39.875332Z",
     "shell.execute_reply": "2023-10-01T07:41:39.874187Z",
     "shell.execute_reply.started": "2023-10-01T07:41:39.591943Z"
    }
   },
   "outputs": [],
   "source": [
    "sns.scatterplot(data = first_question,x = \"applicants_total\",y = \"enrollements_rate\")\n",
    "plt.title(\"Applications vs Enrollment Rate\")\n",
    "plt.xlabel(\"Number of Applicants\")\n",
    "plt.ylabel(\"Enrollment Rate %\")\n",
    "plt.show()"
   ]
  },
  {
   "cell_type": "code",
   "execution_count": null,
   "metadata": {
    "execution": {
     "iopub.execute_input": "2023-10-01T07:41:39.877171Z",
     "iopub.status.busy": "2023-10-01T07:41:39.876577Z",
     "iopub.status.idle": "2023-10-01T07:41:39.890976Z",
     "shell.execute_reply": "2023-10-01T07:41:39.889727Z",
     "shell.execute_reply.started": "2023-10-01T07:41:39.877142Z"
    }
   },
   "outputs": [],
   "source": [
    "first_question[[\"applicants_total\",\"enrollements_rate\"]].corr()"
   ]
  },
  {
   "cell_type": "markdown",
   "metadata": {},
   "source": [
    "**we can say that a high number of applications does not mean that a university is preferred among students.**"
   ]
  },
  {
   "cell_type": "markdown",
   "metadata": {},
   "source": [
    "**#2  Do students prefer universities that have a high rate of admission?**"
   ]
  },
  {
   "cell_type": "code",
   "execution_count": null,
   "metadata": {
    "execution": {
     "iopub.execute_input": "2023-10-01T07:41:39.893185Z",
     "iopub.status.busy": "2023-10-01T07:41:39.892402Z",
     "iopub.status.idle": "2023-10-01T07:41:39.907153Z",
     "shell.execute_reply": "2023-10-01T07:41:39.905801Z",
     "shell.execute_reply.started": "2023-10-01T07:41:39.893158Z"
    }
   },
   "outputs": [],
   "source": [
    "second_question = data_copy[[\"applicants_total\",\"admissions_total\",\"enrolled_total\"]]\n",
    "second_question.head()"
   ]
  },
  {
   "cell_type": "code",
   "execution_count": null,
   "metadata": {
    "execution": {
     "iopub.execute_input": "2023-10-01T07:41:39.909167Z",
     "iopub.status.busy": "2023-10-01T07:41:39.908881Z",
     "iopub.status.idle": "2023-10-01T07:41:39.927532Z",
     "shell.execute_reply": "2023-10-01T07:41:39.926455Z",
     "shell.execute_reply.started": "2023-10-01T07:41:39.909144Z"
    }
   },
   "outputs": [],
   "source": [
    "second_question[\"admissions_rate\"] = second_question[\"admissions_total\"] / second_question[\"applicants_total\"]\n",
    "\n",
    "second_question[\"enrollements_rate\"] = second_question[\"enrolled_total\"] / second_question[\"admissions_total\"]\n",
    "\n",
    "second_question.head()"
   ]
  },
  {
   "cell_type": "code",
   "execution_count": null,
   "metadata": {
    "execution": {
     "iopub.execute_input": "2023-10-01T07:41:39.929002Z",
     "iopub.status.busy": "2023-10-01T07:41:39.928617Z",
     "iopub.status.idle": "2023-10-01T07:41:40.189081Z",
     "shell.execute_reply": "2023-10-01T07:41:40.188025Z",
     "shell.execute_reply.started": "2023-10-01T07:41:39.928967Z"
    }
   },
   "outputs": [],
   "source": [
    "sns.scatterplot(data = second_question,x = \"admissions_rate\",y = \"enrollements_rate\")\n",
    "\n",
    "plt.title(\"Acceptance Rate vs Enrollment Rate\")\n",
    "plt.xlabel(\"Acceptance Rate %\")\n",
    "plt.ylabel(\"Enrollment Rate %\")\n",
    "\n",
    "plt.show()"
   ]
  },
  {
   "cell_type": "code",
   "execution_count": null,
   "metadata": {
    "execution": {
     "iopub.execute_input": "2023-10-01T07:41:40.195877Z",
     "iopub.status.busy": "2023-10-01T07:41:40.195353Z",
     "iopub.status.idle": "2023-10-01T07:41:40.207438Z",
     "shell.execute_reply": "2023-10-01T07:41:40.206244Z",
     "shell.execute_reply.started": "2023-10-01T07:41:40.195835Z"
    }
   },
   "outputs": [],
   "source": [
    "second_question[[\"admissions_rate\",\"enrollements_rate\"]].corr()"
   ]
  },
  {
   "cell_type": "markdown",
   "metadata": {},
   "source": [
    "**students do not necessarily prefer a university because of its high acceptance rate.**"
   ]
  },
  {
   "cell_type": "markdown",
   "metadata": {},
   "source": [
    "**#3 Do students prefer public or private universities?**"
   ]
  },
  {
   "cell_type": "code",
   "execution_count": null,
   "metadata": {
    "execution": {
     "iopub.execute_input": "2023-10-01T07:41:40.209268Z",
     "iopub.status.busy": "2023-10-01T07:41:40.208852Z",
     "iopub.status.idle": "2023-10-01T07:41:40.226940Z",
     "shell.execute_reply": "2023-10-01T07:41:40.225765Z",
     "shell.execute_reply.started": "2023-10-01T07:41:40.209214Z"
    }
   },
   "outputs": [],
   "source": [
    "third_question = data_copy[[\"control_of_institution\",\"applicants_total\",\"enrolled_total\"]]\n",
    "third_question.head()"
   ]
  },
  {
   "cell_type": "code",
   "execution_count": null,
   "metadata": {
    "execution": {
     "iopub.execute_input": "2023-10-01T07:41:40.228710Z",
     "iopub.status.busy": "2023-10-01T07:41:40.228402Z",
     "iopub.status.idle": "2023-10-01T07:41:40.246739Z",
     "shell.execute_reply": "2023-10-01T07:41:40.245941Z",
     "shell.execute_reply.started": "2023-10-01T07:41:40.228685Z"
    }
   },
   "outputs": [],
   "source": [
    "np.unique(third_question[\"control_of_institution\"])"
   ]
  },
  {
   "cell_type": "code",
   "execution_count": null,
   "metadata": {
    "execution": {
     "iopub.execute_input": "2023-10-01T07:41:40.248751Z",
     "iopub.status.busy": "2023-10-01T07:41:40.248363Z",
     "iopub.status.idle": "2023-10-01T07:41:40.578658Z",
     "shell.execute_reply": "2023-10-01T07:41:40.577609Z",
     "shell.execute_reply.started": "2023-10-01T07:41:40.248723Z"
    }
   },
   "outputs": [],
   "source": [
    "third_question[\"enrollments_rate\"] = third_question[\"applicants_total\"] / third_question[\"enrolled_total\"]\n",
    "\n",
    "sns.histplot(data = third_question,x = \"enrollments_rate\",hue = \"control_of_institution\")\n",
    "plt.show()"
   ]
  },
  {
   "cell_type": "markdown",
   "metadata": {},
   "source": [
    "**we can conclude that, in fact, there is a students’ preference for public universities.**"
   ]
  },
  {
   "cell_type": "markdown",
   "metadata": {},
   "source": [
    "**#4 Do students prefer a university because of its low tuition and fees?**"
   ]
  },
  {
   "cell_type": "code",
   "execution_count": null,
   "metadata": {
    "execution": {
     "iopub.execute_input": "2023-10-01T07:41:40.580911Z",
     "iopub.status.busy": "2023-10-01T07:41:40.579989Z",
     "iopub.status.idle": "2023-10-01T07:41:40.593067Z",
     "shell.execute_reply": "2023-10-01T07:41:40.591879Z",
     "shell.execute_reply.started": "2023-10-01T07:41:40.580878Z"
    }
   },
   "outputs": [],
   "source": [
    "forth_question = data_copy[[\"applicants_total\",\"enrolled_total\",\"tuition_and_fees_2013_14\"]]\n",
    "forth_question.head()"
   ]
  },
  {
   "cell_type": "code",
   "execution_count": null,
   "metadata": {
    "execution": {
     "iopub.execute_input": "2023-10-01T07:41:40.594779Z",
     "iopub.status.busy": "2023-10-01T07:41:40.594489Z",
     "iopub.status.idle": "2023-10-01T07:41:40.612986Z",
     "shell.execute_reply": "2023-10-01T07:41:40.612006Z",
     "shell.execute_reply.started": "2023-10-01T07:41:40.594754Z"
    }
   },
   "outputs": [],
   "source": [
    "forth_question[\"enrollments_rate\"] = forth_question[\"enrolled_total\"] / forth_question[\"applicants_total\"]\n",
    "forth_question.head()"
   ]
  },
  {
   "cell_type": "code",
   "execution_count": null,
   "metadata": {
    "execution": {
     "iopub.execute_input": "2023-10-01T07:41:40.614481Z",
     "iopub.status.busy": "2023-10-01T07:41:40.614160Z",
     "iopub.status.idle": "2023-10-01T07:41:40.817286Z",
     "shell.execute_reply": "2023-10-01T07:41:40.816281Z",
     "shell.execute_reply.started": "2023-10-01T07:41:40.614456Z"
    }
   },
   "outputs": [],
   "source": [
    "sns.scatterplot(data = forth_question,x = \"tuition_and_fees_2013_14\",y = \"enrollments_rate\")\n",
    "plt.show()"
   ]
  },
  {
   "cell_type": "code",
   "execution_count": null,
   "metadata": {
    "execution": {
     "iopub.execute_input": "2023-10-01T08:07:16.421358Z",
     "iopub.status.busy": "2023-10-01T08:07:16.421002Z",
     "iopub.status.idle": "2023-10-01T08:07:16.435023Z",
     "shell.execute_reply": "2023-10-01T08:07:16.433866Z",
     "shell.execute_reply.started": "2023-10-01T08:07:16.421331Z"
    }
   },
   "outputs": [],
   "source": [
    "forth_question_prefered = forth_question[forth_question[\"enrollments_rate\"] > 0.5]\n",
    "forth_question_prefered.head()"
   ]
  },
  {
   "cell_type": "code",
   "execution_count": null,
   "metadata": {
    "execution": {
     "iopub.execute_input": "2023-10-01T08:07:20.278781Z",
     "iopub.status.busy": "2023-10-01T08:07:20.278420Z",
     "iopub.status.idle": "2023-10-01T08:07:20.298299Z",
     "shell.execute_reply": "2023-10-01T08:07:20.297311Z",
     "shell.execute_reply.started": "2023-10-01T08:07:20.278751Z"
    }
   },
   "outputs": [],
   "source": [
    "bins = [0,20000,40000,50000]\n",
    "labels = [\"Low\",\"Medium\",\"High\"]\n",
    "forth_question_prefered[\"tuition_and_fees_category\"] = pd.cut(forth_question_prefered[\"tuition_and_fees_2013_14\"],bins = bins,labels = labels)\n",
    "forth_question_prefered.head()"
   ]
  },
  {
   "cell_type": "code",
   "execution_count": null,
   "metadata": {
    "execution": {
     "iopub.execute_input": "2023-10-01T08:07:26.695817Z",
     "iopub.status.busy": "2023-10-01T08:07:26.694887Z",
     "iopub.status.idle": "2023-10-01T08:07:26.712943Z",
     "shell.execute_reply": "2023-10-01T08:07:26.711812Z",
     "shell.execute_reply.started": "2023-10-01T08:07:26.695782Z"
    }
   },
   "outputs": [],
   "source": [
    "forth_question_prefered.groupby(\"tuition_and_fees_category\")[[\"tuition_and_fees_2013_14\",\"enrollments_rate\"]].agg([np.mean,np.median])"
   ]
  },
  {
   "cell_type": "code",
   "execution_count": null,
   "metadata": {
    "execution": {
     "iopub.execute_input": "2023-10-01T09:19:36.802729Z",
     "iopub.status.busy": "2023-10-01T09:19:36.802113Z",
     "iopub.status.idle": "2023-10-01T09:19:37.050930Z",
     "shell.execute_reply": "2023-10-01T09:19:37.049841Z",
     "shell.execute_reply.started": "2023-10-01T09:19:36.802699Z"
    }
   },
   "outputs": [],
   "source": [
    "sns.histplot(data = forth_question_prefered,x = \"tuition_and_fees_category\")\n",
    "\n",
    "plt.title(\"Histogram of Categories of Tuition and Fees\\nAmong Prefered Universities\")\n",
    "plt.xlabel(\"Tuition and Fees Categories\")\n",
    "plt.show()"
   ]
  },
  {
   "cell_type": "markdown",
   "metadata": {},
   "source": [
    "**We can see that the more the fees the less the admission yield, So students prefer universties with low fees**"
   ]
  },
  {
   "cell_type": "markdown",
   "metadata": {},
   "source": [
    "**#5 Do students prefer a university for its low cost of on-campus living?**"
   ]
  },
  {
   "cell_type": "code",
   "execution_count": null,
   "metadata": {
    "execution": {
     "iopub.execute_input": "2023-10-01T08:21:29.872622Z",
     "iopub.status.busy": "2023-10-01T08:21:29.872211Z",
     "iopub.status.idle": "2023-10-01T08:21:29.891029Z",
     "shell.execute_reply": "2023-10-01T08:21:29.889905Z",
     "shell.execute_reply.started": "2023-10-01T08:21:29.872592Z"
    }
   },
   "outputs": [],
   "source": [
    "interest = [\"applicants_total\",\"enrolled_total\",\"control_of_institution\",\"total_price_for_in_state_students_living_on_campus_2013_14\",\"total_price_for_out_of_state_students_living_on_campus_2013_14\"]\n",
    "\n",
    "fifth_question = data_copy[interest]\n",
    "fifth_question[\"enrollments_rate\"] = fifth_question[\"enrolled_total\"] / fifth_question[\"applicants_total\"]\n",
    "\n",
    "fifth_question.head()"
   ]
  },
  {
   "cell_type": "code",
   "execution_count": null,
   "metadata": {
    "execution": {
     "iopub.execute_input": "2023-10-01T08:29:15.513089Z",
     "iopub.status.busy": "2023-10-01T08:29:15.512743Z",
     "iopub.status.idle": "2023-10-01T08:29:15.908606Z",
     "shell.execute_reply": "2023-10-01T08:29:15.907411Z",
     "shell.execute_reply.started": "2023-10-01T08:29:15.513062Z"
    }
   },
   "outputs": [],
   "source": [
    "sns.scatterplot(data = fifth_question,x = \"total_price_for_in_state_students_living_on_campus_2013_14\",y = \"enrollments_rate\",hue = \"control_of_institution\")\n",
    "\n",
    "plt.title(\"Cost of On Campus Living for In State Students\\nVS Enrollments Rate\")\n",
    "plt.xlabel(\"Cost of On Campus Living for In State Students\")\n",
    "plt.ylabel(\"Enrollments Rate %\")\n",
    "plt.show()"
   ]
  },
  {
   "cell_type": "code",
   "execution_count": null,
   "metadata": {
    "execution": {
     "iopub.execute_input": "2023-10-01T08:30:14.583856Z",
     "iopub.status.busy": "2023-10-01T08:30:14.583490Z",
     "iopub.status.idle": "2023-10-01T08:30:14.596474Z",
     "shell.execute_reply": "2023-10-01T08:30:14.595151Z",
     "shell.execute_reply.started": "2023-10-01T08:30:14.583831Z"
    }
   },
   "outputs": [],
   "source": [
    "fifth_question[[\"enrollments_rate\",\"total_price_for_in_state_students_living_on_campus_2013_14\"]].corr()"
   ]
  },
  {
   "cell_type": "code",
   "execution_count": null,
   "metadata": {
    "execution": {
     "iopub.execute_input": "2023-10-01T08:30:48.989018Z",
     "iopub.status.busy": "2023-10-01T08:30:48.988650Z",
     "iopub.status.idle": "2023-10-01T08:30:49.386178Z",
     "shell.execute_reply": "2023-10-01T08:30:49.385043Z",
     "shell.execute_reply.started": "2023-10-01T08:30:48.988989Z"
    }
   },
   "outputs": [],
   "source": [
    "sns.scatterplot(data = fifth_question,x = \"total_price_for_out_of_state_students_living_on_campus_2013_14\",y = \"enrollments_rate\",hue = \"control_of_institution\")\n",
    "\n",
    "plt.title(\"Cost of On Campus Living for Out Of State Students\\nVS Enrollments Rate\")\n",
    "plt.xlabel(\"Cost of On Campus Living for Out Of State Students\")\n",
    "plt.ylabel(\"Enrollments Rate %\")\n",
    "plt.show()"
   ]
  },
  {
   "cell_type": "code",
   "execution_count": null,
   "metadata": {
    "execution": {
     "iopub.execute_input": "2023-10-01T08:31:15.936716Z",
     "iopub.status.busy": "2023-10-01T08:31:15.936329Z",
     "iopub.status.idle": "2023-10-01T08:31:15.948423Z",
     "shell.execute_reply": "2023-10-01T08:31:15.947158Z",
     "shell.execute_reply.started": "2023-10-01T08:31:15.936689Z"
    }
   },
   "outputs": [],
   "source": [
    "fifth_question[[\"enrollments_rate\",\"total_price_for_out_of_state_students_living_on_campus_2013_14\"]].corr()"
   ]
  },
  {
   "cell_type": "markdown",
   "metadata": {},
   "source": [
    "**In general, the average cost offered by public universities is lower than the cost offered by private universities.**"
   ]
  },
  {
   "cell_type": "markdown",
   "metadata": {},
   "source": [
    "**students, in general, prefer universities with affordable costs of on-campus living.**"
   ]
  },
  {
   "cell_type": "markdown",
   "metadata": {},
   "source": [
    "**#6 Do students prefer universities from highly populated states?**"
   ]
  },
  {
   "cell_type": "code",
   "execution_count": null,
   "metadata": {
    "execution": {
     "iopub.execute_input": "2023-10-01T08:45:46.268964Z",
     "iopub.status.busy": "2023-10-01T08:45:46.268613Z",
     "iopub.status.idle": "2023-10-01T08:45:46.285112Z",
     "shell.execute_reply": "2023-10-01T08:45:46.283922Z",
     "shell.execute_reply.started": "2023-10-01T08:45:46.268938Z"
    }
   },
   "outputs": [],
   "source": [
    "interest = [\"applicants_total\",\"enrolled_total\",\"control_of_institution\",\"state_abbreviation\"]\n",
    "\n",
    "sixth_question = data_copy[interest]\n",
    "sixth_question[\"enrollments_rate\"] = sixth_question[\"enrolled_total\"] / sixth_question[\"applicants_total\"]\n",
    "\n",
    "\n",
    "sixth_question.head()"
   ]
  },
  {
   "cell_type": "code",
   "execution_count": null,
   "metadata": {
    "execution": {
     "iopub.execute_input": "2023-10-01T08:49:34.699196Z",
     "iopub.status.busy": "2023-10-01T08:49:34.698872Z",
     "iopub.status.idle": "2023-10-01T08:49:34.715567Z",
     "shell.execute_reply": "2023-10-01T08:49:34.714316Z",
     "shell.execute_reply.started": "2023-10-01T08:49:34.699172Z"
    }
   },
   "outputs": [],
   "source": [
    "popular_states = ['California', 'Florida', 'Texas', 'New York', 'Pennsylvania']\n",
    "sixth_question[\"popular_state\"] = sixth_question[\"state_abbreviation\"].apply(lambda x: True if x in popular_states else False)\n",
    "\n",
    "sixth_question.head()"
   ]
  },
  {
   "cell_type": "code",
   "execution_count": null,
   "metadata": {
    "execution": {
     "iopub.execute_input": "2023-10-01T08:51:48.873308Z",
     "iopub.status.busy": "2023-10-01T08:51:48.872050Z",
     "iopub.status.idle": "2023-10-01T08:51:49.238648Z",
     "shell.execute_reply": "2023-10-01T08:51:49.237698Z",
     "shell.execute_reply.started": "2023-10-01T08:51:48.873232Z"
    }
   },
   "outputs": [],
   "source": [
    "sns.boxplot(data = sixth_question,x = \"popular_state\",y = \"enrollments_rate\",hue = \"control_of_institution\")\n",
    "\n",
    "plt.title(\"Popular States VS Enrollments Rate\")\n",
    "plt.xlabel(\"Popular State\")\n",
    "plt.ylabel(\"Enrollments Rate %\")\n",
    "plt.show()"
   ]
  },
  {
   "cell_type": "markdown",
   "metadata": {},
   "source": [
    "**We can see that the less populated regions the more the admission rate**"
   ]
  },
  {
   "cell_type": "markdown",
   "metadata": {},
   "source": [
    "**7# Do students prefer a university based on the possibility of a higher, additional academic degree in the same university?**"
   ]
  },
  {
   "cell_type": "code",
   "execution_count": null,
   "metadata": {
    "execution": {
     "iopub.execute_input": "2023-10-01T09:07:56.248867Z",
     "iopub.status.busy": "2023-10-01T09:07:56.247792Z",
     "iopub.status.idle": "2023-10-01T09:07:56.266588Z",
     "shell.execute_reply": "2023-10-01T09:07:56.265234Z",
     "shell.execute_reply.started": "2023-10-01T09:07:56.248830Z"
    }
   },
   "outputs": [],
   "source": [
    "degree_offers = ['highest_degree_offered', 'offers_bachelors_degree',\n",
    "       'offers_masters_degree', 'offers_doctors_degree_research_scholarship',\n",
    "       'offers_doctors_degree_professional_practice']\n",
    "\n",
    "seventh_question = data_copy[degree_offers + [\"applicants_total\"] + [\"enrolled_total\"]]\n",
    "seventh_question[\"enrollments_rate\"] = seventh_question[\"enrolled_total\"] / seventh_question[\"applicants_total\"]\n",
    "\n",
    "seventh_question.head()"
   ]
  },
  {
   "cell_type": "code",
   "execution_count": null,
   "metadata": {
    "execution": {
     "iopub.execute_input": "2023-10-01T09:15:14.470524Z",
     "iopub.status.busy": "2023-10-01T09:15:14.470130Z",
     "iopub.status.idle": "2023-10-01T09:15:14.479699Z",
     "shell.execute_reply": "2023-10-01T09:15:14.478948Z",
     "shell.execute_reply.started": "2023-10-01T09:15:14.470495Z"
    }
   },
   "outputs": [],
   "source": [
    "percentages = seventh_question[\"highest_degree_offered\"].value_counts(normalize = True) * 100\n",
    "percentages"
   ]
  },
  {
   "cell_type": "code",
   "execution_count": null,
   "metadata": {
    "execution": {
     "iopub.execute_input": "2023-10-01T09:15:43.304771Z",
     "iopub.status.busy": "2023-10-01T09:15:43.303879Z",
     "iopub.status.idle": "2023-10-01T09:15:43.508986Z",
     "shell.execute_reply": "2023-10-01T09:15:43.507544Z",
     "shell.execute_reply.started": "2023-10-01T09:15:43.304737Z"
    }
   },
   "outputs": [],
   "source": [
    "plt.pie(percentages.values,labels = percentages.index, autopct='%1.1f%%', startangle=90)\n",
    "\n",
    "plt.title(\"Highest Degree Offered\")\n",
    "plt.show()"
   ]
  },
  {
   "cell_type": "code",
   "execution_count": null,
   "metadata": {
    "execution": {
     "iopub.execute_input": "2023-10-01T09:21:14.884094Z",
     "iopub.status.busy": "2023-10-01T09:21:14.883750Z",
     "iopub.status.idle": "2023-10-01T09:21:15.229550Z",
     "shell.execute_reply": "2023-10-01T09:21:15.228331Z",
     "shell.execute_reply.started": "2023-10-01T09:21:14.884069Z"
    }
   },
   "outputs": [],
   "source": [
    "sns.stripplot(data = seventh_question,x = \"enrollments_rate\",y = \"highest_degree_offered\")\n",
    "\n",
    "plt.title(\"Highest Degree Offered VS Enrollments Rate\")\n",
    "plt.xlabel(\"Enrollments Rate %\")\n",
    "plt.ylabel(\"Highest Degree Offered\")\n",
    "plt.show()"
   ]
  },
  {
   "cell_type": "markdown",
   "metadata": {},
   "source": [
    "**So there alot of collage that deosn't have a higher degree and still have a high rate of admission**"
   ]
  },
  {
   "cell_type": "markdown",
   "metadata": {},
   "source": [
    "**Inferences and Conclusions.**"
   ]
  },
  {
   "cell_type": "markdown",
   "metadata": {},
   "source": [
    "* A high number of applications does not imply that a university is preferred among students.\n",
    "\n",
    "* Students do not necessarily prefer a university because of its high acceptance rate or, in other words, the students’ preference is not based on how easy it is for them to be admitted to a university.\n",
    "\n",
    "* There is a strong students’ preference for public universities.\n",
    "\n",
    "* Two of the main reasons why public universities are preferred by students are: first, on average public universities present more affordable tuition and fees than private universities; second, public universities have more affordable on-campus living costs.\n",
    "\n",
    "* Students, in general, prefer universities with affordable costs of on-campus living.\n",
    "\n",
    "* When students look for a university to study for a Bachelor’s degree, they do not frequently choose the university thinking about a future possibility of pursuing a higher degree at the same university"
   ]
  }
 ],
 "metadata": {
  "kernelspec": {
   "display_name": "Python 3 (ipykernel)",
   "language": "python",
   "name": "python3"
  },
  "language_info": {
   "codemirror_mode": {
    "name": "ipython",
    "version": 3
   },
   "file_extension": ".py",
   "mimetype": "text/x-python",
   "name": "python",
   "nbconvert_exporter": "python",
   "pygments_lexer": "ipython3",
   "version": "3.9.12"
  }
 },
 "nbformat": 4,
 "nbformat_minor": 4
}
